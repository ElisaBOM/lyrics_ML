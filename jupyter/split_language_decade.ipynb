{
 "cells": [
  {
   "cell_type": "markdown",
   "id": "7b3ef8a4",
   "metadata": {},
   "source": [
    "# Let's load the kaggle-genius data"
   ]
  },
  {
   "cell_type": "code",
   "execution_count": null,
   "id": "fd409067",
   "metadata": {},
   "outputs": [],
   "source": [
    "import pandas as pd"
   ]
  },
  {
   "cell_type": "code",
   "execution_count": null,
   "id": "26390153",
   "metadata": {},
   "outputs": [],
   "source": [
    "kaggle_source = '/mnt/c/Users/rmessina/Eli/data/song_lyrics.csv'\n",
    "chunk_size = 50000  # Number of rows per chunk\n",
    "lower_decade = 1950\n",
    "\n",
    "# let's process the Spanish songs\n",
    "my_languages = {\n",
    "    \"es\": ['es', 'ES'],\n",
    "    \"en\": ['en', 'EN'],\n",
    "    \"ca\": ['ca', 'CA'],\n",
    "}\n",
    "\n",
    "for lang, codes in my_languages.items():\n",
    "    filtered_csv = f'/mnt/c/Users/rmessina/Eli/data/song_lyrics_{lang}.csv'\n",
    "\n",
    "    # Read the CSV file in chunks\n",
    "    chunks = pd.read_csv(kaggle_source, chunksize=chunk_size, encoding='utf-8')\n",
    "\n",
    "    # Process each chunk\n",
    "    filtered_chunks = []\n",
    "    for chunk in chunks:\n",
    "        filtered_chunk = chunk[chunk['language'].isin(codes)]\n",
    "        filtered_chunks.append(filtered_chunk)\n",
    "\n",
    "    # Combine all filtered chunks into a single DataFrame\n",
    "    filtered_df = pd.concat(filtered_chunks)\n",
    "\n",
    "    # let's save the df for each language\n",
    "    filtered_df.to_csv(filtered_csv, index=False, encoding='utf-8')\n",
    "\n",
    "    # add the decade column\n",
    "    filtered_df['decade'] = (filtered_df['year'] // 10) * 10\n",
    "\n",
    "    # Filter the DataFrame to include only decades starting from 1950\n",
    "    recent_df = filtered_df[filtered_df['decade'] >= lower_decade]\n",
    "\n",
    "    out_csv = f'/mnt/c/Users/rmessina/Eli/data/song_lyrics_{lang}_{lower_decade}_2020.csv'\n",
    "    recent_df.to_csv(out_csv, index=False, encoding='utf-8')\n",
    "    print(f\"Filtered data for {lang} saved to {out_csv}\")"
   ]
  }
 ],
 "metadata": {
  "kernelspec": {
   "display_name": "eli",
   "language": "python",
   "name": "python3"
  },
  "language_info": {
   "name": "python",
   "version": "3.9.21"
  }
 },
 "nbformat": 4,
 "nbformat_minor": 5
}
