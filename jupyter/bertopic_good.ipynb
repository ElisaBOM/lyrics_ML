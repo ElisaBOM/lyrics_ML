{
 "cells": [
  {
   "cell_type": "markdown",
   "id": "10a9a588",
   "metadata": {},
   "source": [
    "# What do we need..."
   ]
  },
  {
   "cell_type": "code",
   "execution_count": 2,
   "id": "5b819b19",
   "metadata": {},
   "outputs": [],
   "source": [
    "import re\n",
    "import string\n",
    "\n",
    "import swifter\n",
    "import pandas as pd\n",
    "\n",
    "from umap import UMAP\n",
    "from hdbscan import HDBSCAN\n",
    "from sklearn.cluster import KMeans\n",
    "from bertopic import BERTopic\n",
    "from sentence_transformers import SentenceTransformer"
   ]
  },
  {
   "cell_type": "markdown",
   "id": "5b136bd7",
   "metadata": {},
   "source": [
    "## Prepare data"
   ]
  },
  {
   "cell_type": "code",
   "execution_count": null,
   "id": "d3dd3a50",
   "metadata": {},
   "outputs": [
    {
     "data": {
      "text/plain": [
       "'Loaded 275059 rows from the dataset'"
      ]
     },
     "metadata": {},
     "output_type": "display_data"
    },
    {
     "data": {
      "text/plain": [
       "'Cleaning lyrics...'"
      ]
     },
     "metadata": {},
     "output_type": "display_data"
    },
    {
     "data": {
      "application/vnd.jupyter.widget-view+json": {
       "model_id": "bfe26ff2600a43558db249b96208ee33",
       "version_major": 2,
       "version_minor": 0
      },
      "text/plain": [
       "Pandas Apply:   0%|          | 0/275059 [00:00<?, ?it/s]"
      ]
     },
     "metadata": {},
     "output_type": "display_data"
    },
    {
     "data": {
      "text/plain": [
       "\"Removed 0 rows with NaN values from 'cleaned_lyrics'.\""
      ]
     },
     "metadata": {},
     "output_type": "display_data"
    }
   ],
   "source": [
    "spanish_punct = string.punctuation + \"¡¿«»\"\n",
    "\n",
    "def remove_stuff(text):\n",
    "    return re.sub(r\"(?<!\\w)-|-(?!\\w)|[{}]\".format(re.escape(spanish_punct.replace(\"-\", \"\"))), \"\", text)\n",
    "\n",
    "\n",
    "def clean_lyrics(letra):\n",
    "    cleaned = ''\n",
    "    for text in letra.split('\\n'):\n",
    "        if text == '':\n",
    "            continue\n",
    "        text = re.sub(r'\\[.+?\\]', ' ', text) # remove whatever is between brackets\n",
    "        text = re.sub(r'\\((.+?)\\)', r'\\1', text) # keep what is between parentheses\n",
    "        text = re.sub(r'\\\"(.+?)\\\"', r'\\1', text) # keep what is between quotes\n",
    "        text = re.sub(r'[\\s]+', ' ', text) # spaces\n",
    "        text = text.strip() # remove leading and trailing spaces\n",
    "        text = text.lower() # lowercase\n",
    "        cleaned += text + ' '\n",
    "    cleaned = re.sub(r'\\s+', ' ', cleaned) # remove multiple spaces\n",
    "    cleaned = cleaned.strip() # remove leading and trailing spaces\n",
    "    return ' '.join(remove_stuff(tok) for tok in cleaned.split(' '))  # remove punctuation and special characters, e.g.: mierda! -> mierda\n",
    "\n",
    "# Spanish lyrics dataset\n",
    "df = pd.read_csv('c:/Users/rmessina/Eli/data/song_lyrics_es_1950_2020.csv', encoding='utf8')\n",
    "\n",
    "display(f\"Loaded {len(df)} rows from the dataset\")\n",
    "display(\"Cleaning lyrics...\")\n",
    "# Apply multiprocessing to the DataFrame with a progress bar\n",
    "df['cleaned_lyrics'] = df['lyrics'].swifter.apply(clean_lyrics)\n",
    "\n",
    "# Remove NaN values from the 'cleaned_lyrics' column\n",
    "initial_count = len(df)\n",
    "df = df.dropna(subset=['cleaned_lyrics'])\n",
    "final_count = len(df)\n",
    "removed_count = initial_count - final_count\n",
    "display(f\"Removed {removed_count} rows with NaN values from 'cleaned_lyrics'.\")\n",
    "\n",
    "df.to_csv('c:/Users/rmessina/Eli/data/song_lyrics_es_1950_2020_cleaned_final.csv', encoding='utf8', index=False)\n",
    "\n",
    "# about 5-6 minutes to run"
   ]
  },
  {
   "cell_type": "markdown",
   "id": "6a777904",
   "metadata": {},
   "source": [
    "# First, let's create topic model using kmeans"
   ]
  },
  {
   "cell_type": "code",
   "execution_count": null,
   "id": "e4d445e7",
   "metadata": {},
   "outputs": [
    {
     "name": "stderr",
     "output_type": "stream",
     "text": [
      "2025-05-07 13:06:09,855 - BERTopic - WARNING: When you use `pickle` to save/load a BERTopic model,please make sure that the environments in which you saveand load the model are **exactly** the same. The version of BERTopic,its dependencies, and python need to remain the same.\n"
     ]
    },
    {
     "data": {
      "application/vnd.plotly.v1+json": {
       "config": {
        "plotlyServerURL": "https://plot.ly"
       },
       "data": [
        {
         "customdata": [
          [
           0,
           "la | que | me | te | yo",
           15194
          ],
          [
           1,
           "la | me | no | que | el",
           14213
          ],
          [
           2,
           "el | de | la | en | que",
           13318
          ],
          [
           3,
           "no | te | que | me | amor",
           12509
          ],
          [
           4,
           "de | la | el | en | los",
           12005
          ],
          [
           5,
           "no | que | te | me | lo",
           11851
          ],
          [
           6,
           "de | el | la | que | en",
           11772
          ],
          [
           7,
           "la | el | en | no | me",
           11642
          ],
          [
           8,
           "amor | tu | mi | que | te",
           11631
          ],
          [
           9,
           "oh | no | ah | me | na",
           11000
          ],
          [
           10,
           "de | el | la | en | que",
           10938
          ],
          [
           11,
           "tu | que | te | mi | no",
           10922
          ],
          [
           12,
           "no | que | me | de | lo",
           10853
          ],
          [
           13,
           "la | de | el | que | no",
           10780
          ],
          [
           14,
           "no | que | te | me | ya",
           10137
          ],
          [
           15,
           "de | el | que | en | tu",
           10106
          ],
          [
           16,
           "que | de | no | la | el",
           9595
          ],
          [
           17,
           "que | no | te | me | de",
           9322
          ],
          [
           18,
           "no | que | me | de | lo",
           8225
          ],
          [
           19,
           "que | te | me | tu | yo",
           8126
          ],
          [
           20,
           "que | tu | mi | te | no",
           7966
          ],
          [
           21,
           "de | no | que | la | el",
           7956
          ],
          [
           22,
           "el | de | la | que | en",
           7504
          ],
          [
           23,
           "de | el | en | la | que",
           6333
          ],
          [
           24,
           "la | el | de | los | se",
           6247
          ],
          [
           25,
           "que | te | me | no | yo",
           6145
          ],
          [
           26,
           "de | la | el | en | que",
           4162
          ],
          [
           27,
           "dios | tu | señor | jesús | mi",
           3607
          ],
          [
           28,
           "bamba | beben | arriba | tú | poca",
           303
          ],
          [
           29,
           "bon | adoro | que | amor | queda",
           301
          ],
          [
           30,
           "guantanamera | guajira | eres | de | comandante",
           225
          ],
          [
           31,
           "bésame | perderte | besame | mucho | vez",
           171
          ]
         ],
         "hovertemplate": "<b>Topic %{customdata[0]}</b><br>%{customdata[1]}<br>Size: %{customdata[2]}",
         "legendgroup": "",
         "marker": {
          "color": "#B0BEC5",
          "line": {
           "color": "DarkSlateGrey",
           "width": 2
          },
          "size": {
           "bdata": "WjuFNwY03TDlLksu/C16LW8t+Cq6KqoqZSocKpkneid7JWokISC+Hx4fFB9QHb0YZxgBGEIQFw4vAS0B4QCrAA==",
           "dtype": "i2"
          },
          "sizemode": "area",
          "sizeref": 9.49625,
          "symbol": "circle"
         },
         "mode": "markers",
         "name": "",
         "orientation": "v",
         "showlegend": false,
         "type": "scatter",
         "x": {
          "bdata": "vhchQGQ2BkAJrbpBj/0MQcSkuEH26xVBmza4QdOSCUDqxcU/abwYQcygtUCeiA5BH7IFQaY190DprC5BJRZVP8CvMUHJTzNBPHovQSi6I0BpjA9BzGn5QEBFVD+CMbdAqHa1QffK8EC7HrpAdf6DPTSv3T/R5Mw/3I2sPspO1j8=",
          "dtype": "f4"
         },
         "xaxis": "x",
         "y": {
          "bdata": "3VSBvwMbkr8B92NADfncQKjzdUBEuuJA/VprQNDlZr/1dAtBYAbnQNSjVME0sNFAMWnlQN4D8kBVVoxADssKQYkIa0C9AYpAUsh4QIIQQr9orMpAQrzrQAyMBkHi21PBSmRnQFt25EASZVLBY1kMQcE3D0EiERJBi5UKQdJgFEE=",
          "dtype": "f4"
         },
         "yaxis": "y"
        }
       ],
       "layout": {
        "annotations": [
         {
          "showarrow": false,
          "text": "D1",
          "x": 0.054782654717564584,
          "y": -2.3094066143035894,
          "yshift": 10
         },
         {
          "showarrow": false,
          "text": "D2",
          "x": 13.444722975231706,
          "xshift": 10,
          "y": 10.664683437347412
         }
        ],
        "height": 650,
        "hoverlabel": {
         "bgcolor": "white",
         "font": {
          "family": "Rockwell",
          "size": 16
         }
        },
        "legend": {
         "itemsizing": "constant",
         "tracegroupgap": 0
        },
        "margin": {
         "t": 60
        },
        "shapes": [
         {
          "line": {
           "color": "#CFD8DC",
           "width": 2
          },
          "type": "line",
          "x0": 13.444722975231706,
          "x1": 13.444722975231706,
          "y0": -15.28349666595459,
          "y1": 10.664683437347412
         },
         {
          "line": {
           "color": "#9E9E9E",
           "width": 2
          },
          "type": "line",
          "x0": 0.054782654717564584,
          "x1": 26.834663295745848,
          "y0": -2.3094066143035894,
          "y1": -2.3094066143035894
         }
        ],
        "sliders": [
         {
          "active": 0,
          "pad": {
           "t": 50
          },
          "steps": [
           {
            "args": [
             {
              "marker.color": [
               [
                "red",
                "#B0BEC5",
                "#B0BEC5",
                "#B0BEC5",
                "#B0BEC5",
                "#B0BEC5",
                "#B0BEC5",
                "#B0BEC5",
                "#B0BEC5",
                "#B0BEC5",
                "#B0BEC5",
                "#B0BEC5",
                "#B0BEC5",
                "#B0BEC5",
                "#B0BEC5",
                "#B0BEC5",
                "#B0BEC5",
                "#B0BEC5",
                "#B0BEC5",
                "#B0BEC5",
                "#B0BEC5",
                "#B0BEC5",
                "#B0BEC5",
                "#B0BEC5",
                "#B0BEC5",
                "#B0BEC5",
                "#B0BEC5",
                "#B0BEC5",
                "#B0BEC5",
                "#B0BEC5",
                "#B0BEC5",
                "#B0BEC5"
               ]
              ]
             }
            ],
            "label": "Topic 0",
            "method": "update"
           },
           {
            "args": [
             {
              "marker.color": [
               [
                "#B0BEC5",
                "red",
                "#B0BEC5",
                "#B0BEC5",
                "#B0BEC5",
                "#B0BEC5",
                "#B0BEC5",
                "#B0BEC5",
                "#B0BEC5",
                "#B0BEC5",
                "#B0BEC5",
                "#B0BEC5",
                "#B0BEC5",
                "#B0BEC5",
                "#B0BEC5",
                "#B0BEC5",
                "#B0BEC5",
                "#B0BEC5",
                "#B0BEC5",
                "#B0BEC5",
                "#B0BEC5",
                "#B0BEC5",
                "#B0BEC5",
                "#B0BEC5",
                "#B0BEC5",
                "#B0BEC5",
                "#B0BEC5",
                "#B0BEC5",
                "#B0BEC5",
                "#B0BEC5",
                "#B0BEC5",
                "#B0BEC5"
               ]
              ]
             }
            ],
            "label": "Topic 1",
            "method": "update"
           },
           {
            "args": [
             {
              "marker.color": [
               [
                "#B0BEC5",
                "#B0BEC5",
                "red",
                "#B0BEC5",
                "#B0BEC5",
                "#B0BEC5",
                "#B0BEC5",
                "#B0BEC5",
                "#B0BEC5",
                "#B0BEC5",
                "#B0BEC5",
                "#B0BEC5",
                "#B0BEC5",
                "#B0BEC5",
                "#B0BEC5",
                "#B0BEC5",
                "#B0BEC5",
                "#B0BEC5",
                "#B0BEC5",
                "#B0BEC5",
                "#B0BEC5",
                "#B0BEC5",
                "#B0BEC5",
                "#B0BEC5",
                "#B0BEC5",
                "#B0BEC5",
                "#B0BEC5",
                "#B0BEC5",
                "#B0BEC5",
                "#B0BEC5",
                "#B0BEC5",
                "#B0BEC5"
               ]
              ]
             }
            ],
            "label": "Topic 2",
            "method": "update"
           },
           {
            "args": [
             {
              "marker.color": [
               [
                "#B0BEC5",
                "#B0BEC5",
                "#B0BEC5",
                "red",
                "#B0BEC5",
                "#B0BEC5",
                "#B0BEC5",
                "#B0BEC5",
                "#B0BEC5",
                "#B0BEC5",
                "#B0BEC5",
                "#B0BEC5",
                "#B0BEC5",
                "#B0BEC5",
                "#B0BEC5",
                "#B0BEC5",
                "#B0BEC5",
                "#B0BEC5",
                "#B0BEC5",
                "#B0BEC5",
                "#B0BEC5",
                "#B0BEC5",
                "#B0BEC5",
                "#B0BEC5",
                "#B0BEC5",
                "#B0BEC5",
                "#B0BEC5",
                "#B0BEC5",
                "#B0BEC5",
                "#B0BEC5",
                "#B0BEC5",
                "#B0BEC5"
               ]
              ]
             }
            ],
            "label": "Topic 3",
            "method": "update"
           },
           {
            "args": [
             {
              "marker.color": [
               [
                "#B0BEC5",
                "#B0BEC5",
                "#B0BEC5",
                "#B0BEC5",
                "red",
                "#B0BEC5",
                "#B0BEC5",
                "#B0BEC5",
                "#B0BEC5",
                "#B0BEC5",
                "#B0BEC5",
                "#B0BEC5",
                "#B0BEC5",
                "#B0BEC5",
                "#B0BEC5",
                "#B0BEC5",
                "#B0BEC5",
                "#B0BEC5",
                "#B0BEC5",
                "#B0BEC5",
                "#B0BEC5",
                "#B0BEC5",
                "#B0BEC5",
                "#B0BEC5",
                "#B0BEC5",
                "#B0BEC5",
                "#B0BEC5",
                "#B0BEC5",
                "#B0BEC5",
                "#B0BEC5",
                "#B0BEC5",
                "#B0BEC5"
               ]
              ]
             }
            ],
            "label": "Topic 4",
            "method": "update"
           },
           {
            "args": [
             {
              "marker.color": [
               [
                "#B0BEC5",
                "#B0BEC5",
                "#B0BEC5",
                "#B0BEC5",
                "#B0BEC5",
                "red",
                "#B0BEC5",
                "#B0BEC5",
                "#B0BEC5",
                "#B0BEC5",
                "#B0BEC5",
                "#B0BEC5",
                "#B0BEC5",
                "#B0BEC5",
                "#B0BEC5",
                "#B0BEC5",
                "#B0BEC5",
                "#B0BEC5",
                "#B0BEC5",
                "#B0BEC5",
                "#B0BEC5",
                "#B0BEC5",
                "#B0BEC5",
                "#B0BEC5",
                "#B0BEC5",
                "#B0BEC5",
                "#B0BEC5",
                "#B0BEC5",
                "#B0BEC5",
                "#B0BEC5",
                "#B0BEC5",
                "#B0BEC5"
               ]
              ]
             }
            ],
            "label": "Topic 5",
            "method": "update"
           },
           {
            "args": [
             {
              "marker.color": [
               [
                "#B0BEC5",
                "#B0BEC5",
                "#B0BEC5",
                "#B0BEC5",
                "#B0BEC5",
                "#B0BEC5",
                "red",
                "#B0BEC5",
                "#B0BEC5",
                "#B0BEC5",
                "#B0BEC5",
                "#B0BEC5",
                "#B0BEC5",
                "#B0BEC5",
                "#B0BEC5",
                "#B0BEC5",
                "#B0BEC5",
                "#B0BEC5",
                "#B0BEC5",
                "#B0BEC5",
                "#B0BEC5",
                "#B0BEC5",
                "#B0BEC5",
                "#B0BEC5",
                "#B0BEC5",
                "#B0BEC5",
                "#B0BEC5",
                "#B0BEC5",
                "#B0BEC5",
                "#B0BEC5",
                "#B0BEC5",
                "#B0BEC5"
               ]
              ]
             }
            ],
            "label": "Topic 6",
            "method": "update"
           },
           {
            "args": [
             {
              "marker.color": [
               [
                "#B0BEC5",
                "#B0BEC5",
                "#B0BEC5",
                "#B0BEC5",
                "#B0BEC5",
                "#B0BEC5",
                "#B0BEC5",
                "red",
                "#B0BEC5",
                "#B0BEC5",
                "#B0BEC5",
                "#B0BEC5",
                "#B0BEC5",
                "#B0BEC5",
                "#B0BEC5",
                "#B0BEC5",
                "#B0BEC5",
                "#B0BEC5",
                "#B0BEC5",
                "#B0BEC5",
                "#B0BEC5",
                "#B0BEC5",
                "#B0BEC5",
                "#B0BEC5",
                "#B0BEC5",
                "#B0BEC5",
                "#B0BEC5",
                "#B0BEC5",
                "#B0BEC5",
                "#B0BEC5",
                "#B0BEC5",
                "#B0BEC5"
               ]
              ]
             }
            ],
            "label": "Topic 7",
            "method": "update"
           },
           {
            "args": [
             {
              "marker.color": [
               [
                "#B0BEC5",
                "#B0BEC5",
                "#B0BEC5",
                "#B0BEC5",
                "#B0BEC5",
                "#B0BEC5",
                "#B0BEC5",
                "#B0BEC5",
                "red",
                "#B0BEC5",
                "#B0BEC5",
                "#B0BEC5",
                "#B0BEC5",
                "#B0BEC5",
                "#B0BEC5",
                "#B0BEC5",
                "#B0BEC5",
                "#B0BEC5",
                "#B0BEC5",
                "#B0BEC5",
                "#B0BEC5",
                "#B0BEC5",
                "#B0BEC5",
                "#B0BEC5",
                "#B0BEC5",
                "#B0BEC5",
                "#B0BEC5",
                "#B0BEC5",
                "#B0BEC5",
                "#B0BEC5",
                "#B0BEC5",
                "#B0BEC5"
               ]
              ]
             }
            ],
            "label": "Topic 8",
            "method": "update"
           },
           {
            "args": [
             {
              "marker.color": [
               [
                "#B0BEC5",
                "#B0BEC5",
                "#B0BEC5",
                "#B0BEC5",
                "#B0BEC5",
                "#B0BEC5",
                "#B0BEC5",
                "#B0BEC5",
                "#B0BEC5",
                "red",
                "#B0BEC5",
                "#B0BEC5",
                "#B0BEC5",
                "#B0BEC5",
                "#B0BEC5",
                "#B0BEC5",
                "#B0BEC5",
                "#B0BEC5",
                "#B0BEC5",
                "#B0BEC5",
                "#B0BEC5",
                "#B0BEC5",
                "#B0BEC5",
                "#B0BEC5",
                "#B0BEC5",
                "#B0BEC5",
                "#B0BEC5",
                "#B0BEC5",
                "#B0BEC5",
                "#B0BEC5",
                "#B0BEC5",
                "#B0BEC5"
               ]
              ]
             }
            ],
            "label": "Topic 9",
            "method": "update"
           },
           {
            "args": [
             {
              "marker.color": [
               [
                "#B0BEC5",
                "#B0BEC5",
                "#B0BEC5",
                "#B0BEC5",
                "#B0BEC5",
                "#B0BEC5",
                "#B0BEC5",
                "#B0BEC5",
                "#B0BEC5",
                "#B0BEC5",
                "red",
                "#B0BEC5",
                "#B0BEC5",
                "#B0BEC5",
                "#B0BEC5",
                "#B0BEC5",
                "#B0BEC5",
                "#B0BEC5",
                "#B0BEC5",
                "#B0BEC5",
                "#B0BEC5",
                "#B0BEC5",
                "#B0BEC5",
                "#B0BEC5",
                "#B0BEC5",
                "#B0BEC5",
                "#B0BEC5",
                "#B0BEC5",
                "#B0BEC5",
                "#B0BEC5",
                "#B0BEC5",
                "#B0BEC5"
               ]
              ]
             }
            ],
            "label": "Topic 10",
            "method": "update"
           },
           {
            "args": [
             {
              "marker.color": [
               [
                "#B0BEC5",
                "#B0BEC5",
                "#B0BEC5",
                "#B0BEC5",
                "#B0BEC5",
                "#B0BEC5",
                "#B0BEC5",
                "#B0BEC5",
                "#B0BEC5",
                "#B0BEC5",
                "#B0BEC5",
                "red",
                "#B0BEC5",
                "#B0BEC5",
                "#B0BEC5",
                "#B0BEC5",
                "#B0BEC5",
                "#B0BEC5",
                "#B0BEC5",
                "#B0BEC5",
                "#B0BEC5",
                "#B0BEC5",
                "#B0BEC5",
                "#B0BEC5",
                "#B0BEC5",
                "#B0BEC5",
                "#B0BEC5",
                "#B0BEC5",
                "#B0BEC5",
                "#B0BEC5",
                "#B0BEC5",
                "#B0BEC5"
               ]
              ]
             }
            ],
            "label": "Topic 11",
            "method": "update"
           },
           {
            "args": [
             {
              "marker.color": [
               [
                "#B0BEC5",
                "#B0BEC5",
                "#B0BEC5",
                "#B0BEC5",
                "#B0BEC5",
                "#B0BEC5",
                "#B0BEC5",
                "#B0BEC5",
                "#B0BEC5",
                "#B0BEC5",
                "#B0BEC5",
                "#B0BEC5",
                "red",
                "#B0BEC5",
                "#B0BEC5",
                "#B0BEC5",
                "#B0BEC5",
                "#B0BEC5",
                "#B0BEC5",
                "#B0BEC5",
                "#B0BEC5",
                "#B0BEC5",
                "#B0BEC5",
                "#B0BEC5",
                "#B0BEC5",
                "#B0BEC5",
                "#B0BEC5",
                "#B0BEC5",
                "#B0BEC5",
                "#B0BEC5",
                "#B0BEC5",
                "#B0BEC5"
               ]
              ]
             }
            ],
            "label": "Topic 12",
            "method": "update"
           },
           {
            "args": [
             {
              "marker.color": [
               [
                "#B0BEC5",
                "#B0BEC5",
                "#B0BEC5",
                "#B0BEC5",
                "#B0BEC5",
                "#B0BEC5",
                "#B0BEC5",
                "#B0BEC5",
                "#B0BEC5",
                "#B0BEC5",
                "#B0BEC5",
                "#B0BEC5",
                "#B0BEC5",
                "red",
                "#B0BEC5",
                "#B0BEC5",
                "#B0BEC5",
                "#B0BEC5",
                "#B0BEC5",
                "#B0BEC5",
                "#B0BEC5",
                "#B0BEC5",
                "#B0BEC5",
                "#B0BEC5",
                "#B0BEC5",
                "#B0BEC5",
                "#B0BEC5",
                "#B0BEC5",
                "#B0BEC5",
                "#B0BEC5",
                "#B0BEC5",
                "#B0BEC5"
               ]
              ]
             }
            ],
            "label": "Topic 13",
            "method": "update"
           },
           {
            "args": [
             {
              "marker.color": [
               [
                "#B0BEC5",
                "#B0BEC5",
                "#B0BEC5",
                "#B0BEC5",
                "#B0BEC5",
                "#B0BEC5",
                "#B0BEC5",
                "#B0BEC5",
                "#B0BEC5",
                "#B0BEC5",
                "#B0BEC5",
                "#B0BEC5",
                "#B0BEC5",
                "#B0BEC5",
                "red",
                "#B0BEC5",
                "#B0BEC5",
                "#B0BEC5",
                "#B0BEC5",
                "#B0BEC5",
                "#B0BEC5",
                "#B0BEC5",
                "#B0BEC5",
                "#B0BEC5",
                "#B0BEC5",
                "#B0BEC5",
                "#B0BEC5",
                "#B0BEC5",
                "#B0BEC5",
                "#B0BEC5",
                "#B0BEC5",
                "#B0BEC5"
               ]
              ]
             }
            ],
            "label": "Topic 14",
            "method": "update"
           },
           {
            "args": [
             {
              "marker.color": [
               [
                "#B0BEC5",
                "#B0BEC5",
                "#B0BEC5",
                "#B0BEC5",
                "#B0BEC5",
                "#B0BEC5",
                "#B0BEC5",
                "#B0BEC5",
                "#B0BEC5",
                "#B0BEC5",
                "#B0BEC5",
                "#B0BEC5",
                "#B0BEC5",
                "#B0BEC5",
                "#B0BEC5",
                "red",
                "#B0BEC5",
                "#B0BEC5",
                "#B0BEC5",
                "#B0BEC5",
                "#B0BEC5",
                "#B0BEC5",
                "#B0BEC5",
                "#B0BEC5",
                "#B0BEC5",
                "#B0BEC5",
                "#B0BEC5",
                "#B0BEC5",
                "#B0BEC5",
                "#B0BEC5",
                "#B0BEC5",
                "#B0BEC5"
               ]
              ]
             }
            ],
            "label": "Topic 15",
            "method": "update"
           },
           {
            "args": [
             {
              "marker.color": [
               [
                "#B0BEC5",
                "#B0BEC5",
                "#B0BEC5",
                "#B0BEC5",
                "#B0BEC5",
                "#B0BEC5",
                "#B0BEC5",
                "#B0BEC5",
                "#B0BEC5",
                "#B0BEC5",
                "#B0BEC5",
                "#B0BEC5",
                "#B0BEC5",
                "#B0BEC5",
                "#B0BEC5",
                "#B0BEC5",
                "red",
                "#B0BEC5",
                "#B0BEC5",
                "#B0BEC5",
                "#B0BEC5",
                "#B0BEC5",
                "#B0BEC5",
                "#B0BEC5",
                "#B0BEC5",
                "#B0BEC5",
                "#B0BEC5",
                "#B0BEC5",
                "#B0BEC5",
                "#B0BEC5",
                "#B0BEC5",
                "#B0BEC5"
               ]
              ]
             }
            ],
            "label": "Topic 16",
            "method": "update"
           },
           {
            "args": [
             {
              "marker.color": [
               [
                "#B0BEC5",
                "#B0BEC5",
                "#B0BEC5",
                "#B0BEC5",
                "#B0BEC5",
                "#B0BEC5",
                "#B0BEC5",
                "#B0BEC5",
                "#B0BEC5",
                "#B0BEC5",
                "#B0BEC5",
                "#B0BEC5",
                "#B0BEC5",
                "#B0BEC5",
                "#B0BEC5",
                "#B0BEC5",
                "#B0BEC5",
                "red",
                "#B0BEC5",
                "#B0BEC5",
                "#B0BEC5",
                "#B0BEC5",
                "#B0BEC5",
                "#B0BEC5",
                "#B0BEC5",
                "#B0BEC5",
                "#B0BEC5",
                "#B0BEC5",
                "#B0BEC5",
                "#B0BEC5",
                "#B0BEC5",
                "#B0BEC5"
               ]
              ]
             }
            ],
            "label": "Topic 17",
            "method": "update"
           },
           {
            "args": [
             {
              "marker.color": [
               [
                "#B0BEC5",
                "#B0BEC5",
                "#B0BEC5",
                "#B0BEC5",
                "#B0BEC5",
                "#B0BEC5",
                "#B0BEC5",
                "#B0BEC5",
                "#B0BEC5",
                "#B0BEC5",
                "#B0BEC5",
                "#B0BEC5",
                "#B0BEC5",
                "#B0BEC5",
                "#B0BEC5",
                "#B0BEC5",
                "#B0BEC5",
                "#B0BEC5",
                "red",
                "#B0BEC5",
                "#B0BEC5",
                "#B0BEC5",
                "#B0BEC5",
                "#B0BEC5",
                "#B0BEC5",
                "#B0BEC5",
                "#B0BEC5",
                "#B0BEC5",
                "#B0BEC5",
                "#B0BEC5",
                "#B0BEC5",
                "#B0BEC5"
               ]
              ]
             }
            ],
            "label": "Topic 18",
            "method": "update"
           },
           {
            "args": [
             {
              "marker.color": [
               [
                "#B0BEC5",
                "#B0BEC5",
                "#B0BEC5",
                "#B0BEC5",
                "#B0BEC5",
                "#B0BEC5",
                "#B0BEC5",
                "#B0BEC5",
                "#B0BEC5",
                "#B0BEC5",
                "#B0BEC5",
                "#B0BEC5",
                "#B0BEC5",
                "#B0BEC5",
                "#B0BEC5",
                "#B0BEC5",
                "#B0BEC5",
                "#B0BEC5",
                "#B0BEC5",
                "red",
                "#B0BEC5",
                "#B0BEC5",
                "#B0BEC5",
                "#B0BEC5",
                "#B0BEC5",
                "#B0BEC5",
                "#B0BEC5",
                "#B0BEC5",
                "#B0BEC5",
                "#B0BEC5",
                "#B0BEC5",
                "#B0BEC5"
               ]
              ]
             }
            ],
            "label": "Topic 19",
            "method": "update"
           },
           {
            "args": [
             {
              "marker.color": [
               [
                "#B0BEC5",
                "#B0BEC5",
                "#B0BEC5",
                "#B0BEC5",
                "#B0BEC5",
                "#B0BEC5",
                "#B0BEC5",
                "#B0BEC5",
                "#B0BEC5",
                "#B0BEC5",
                "#B0BEC5",
                "#B0BEC5",
                "#B0BEC5",
                "#B0BEC5",
                "#B0BEC5",
                "#B0BEC5",
                "#B0BEC5",
                "#B0BEC5",
                "#B0BEC5",
                "#B0BEC5",
                "red",
                "#B0BEC5",
                "#B0BEC5",
                "#B0BEC5",
                "#B0BEC5",
                "#B0BEC5",
                "#B0BEC5",
                "#B0BEC5",
                "#B0BEC5",
                "#B0BEC5",
                "#B0BEC5",
                "#B0BEC5"
               ]
              ]
             }
            ],
            "label": "Topic 20",
            "method": "update"
           },
           {
            "args": [
             {
              "marker.color": [
               [
                "#B0BEC5",
                "#B0BEC5",
                "#B0BEC5",
                "#B0BEC5",
                "#B0BEC5",
                "#B0BEC5",
                "#B0BEC5",
                "#B0BEC5",
                "#B0BEC5",
                "#B0BEC5",
                "#B0BEC5",
                "#B0BEC5",
                "#B0BEC5",
                "#B0BEC5",
                "#B0BEC5",
                "#B0BEC5",
                "#B0BEC5",
                "#B0BEC5",
                "#B0BEC5",
                "#B0BEC5",
                "#B0BEC5",
                "red",
                "#B0BEC5",
                "#B0BEC5",
                "#B0BEC5",
                "#B0BEC5",
                "#B0BEC5",
                "#B0BEC5",
                "#B0BEC5",
                "#B0BEC5",
                "#B0BEC5",
                "#B0BEC5"
               ]
              ]
             }
            ],
            "label": "Topic 21",
            "method": "update"
           },
           {
            "args": [
             {
              "marker.color": [
               [
                "#B0BEC5",
                "#B0BEC5",
                "#B0BEC5",
                "#B0BEC5",
                "#B0BEC5",
                "#B0BEC5",
                "#B0BEC5",
                "#B0BEC5",
                "#B0BEC5",
                "#B0BEC5",
                "#B0BEC5",
                "#B0BEC5",
                "#B0BEC5",
                "#B0BEC5",
                "#B0BEC5",
                "#B0BEC5",
                "#B0BEC5",
                "#B0BEC5",
                "#B0BEC5",
                "#B0BEC5",
                "#B0BEC5",
                "#B0BEC5",
                "red",
                "#B0BEC5",
                "#B0BEC5",
                "#B0BEC5",
                "#B0BEC5",
                "#B0BEC5",
                "#B0BEC5",
                "#B0BEC5",
                "#B0BEC5",
                "#B0BEC5"
               ]
              ]
             }
            ],
            "label": "Topic 22",
            "method": "update"
           },
           {
            "args": [
             {
              "marker.color": [
               [
                "#B0BEC5",
                "#B0BEC5",
                "#B0BEC5",
                "#B0BEC5",
                "#B0BEC5",
                "#B0BEC5",
                "#B0BEC5",
                "#B0BEC5",
                "#B0BEC5",
                "#B0BEC5",
                "#B0BEC5",
                "#B0BEC5",
                "#B0BEC5",
                "#B0BEC5",
                "#B0BEC5",
                "#B0BEC5",
                "#B0BEC5",
                "#B0BEC5",
                "#B0BEC5",
                "#B0BEC5",
                "#B0BEC5",
                "#B0BEC5",
                "#B0BEC5",
                "red",
                "#B0BEC5",
                "#B0BEC5",
                "#B0BEC5",
                "#B0BEC5",
                "#B0BEC5",
                "#B0BEC5",
                "#B0BEC5",
                "#B0BEC5"
               ]
              ]
             }
            ],
            "label": "Topic 23",
            "method": "update"
           },
           {
            "args": [
             {
              "marker.color": [
               [
                "#B0BEC5",
                "#B0BEC5",
                "#B0BEC5",
                "#B0BEC5",
                "#B0BEC5",
                "#B0BEC5",
                "#B0BEC5",
                "#B0BEC5",
                "#B0BEC5",
                "#B0BEC5",
                "#B0BEC5",
                "#B0BEC5",
                "#B0BEC5",
                "#B0BEC5",
                "#B0BEC5",
                "#B0BEC5",
                "#B0BEC5",
                "#B0BEC5",
                "#B0BEC5",
                "#B0BEC5",
                "#B0BEC5",
                "#B0BEC5",
                "#B0BEC5",
                "#B0BEC5",
                "red",
                "#B0BEC5",
                "#B0BEC5",
                "#B0BEC5",
                "#B0BEC5",
                "#B0BEC5",
                "#B0BEC5",
                "#B0BEC5"
               ]
              ]
             }
            ],
            "label": "Topic 24",
            "method": "update"
           },
           {
            "args": [
             {
              "marker.color": [
               [
                "#B0BEC5",
                "#B0BEC5",
                "#B0BEC5",
                "#B0BEC5",
                "#B0BEC5",
                "#B0BEC5",
                "#B0BEC5",
                "#B0BEC5",
                "#B0BEC5",
                "#B0BEC5",
                "#B0BEC5",
                "#B0BEC5",
                "#B0BEC5",
                "#B0BEC5",
                "#B0BEC5",
                "#B0BEC5",
                "#B0BEC5",
                "#B0BEC5",
                "#B0BEC5",
                "#B0BEC5",
                "#B0BEC5",
                "#B0BEC5",
                "#B0BEC5",
                "#B0BEC5",
                "#B0BEC5",
                "red",
                "#B0BEC5",
                "#B0BEC5",
                "#B0BEC5",
                "#B0BEC5",
                "#B0BEC5",
                "#B0BEC5"
               ]
              ]
             }
            ],
            "label": "Topic 25",
            "method": "update"
           },
           {
            "args": [
             {
              "marker.color": [
               [
                "#B0BEC5",
                "#B0BEC5",
                "#B0BEC5",
                "#B0BEC5",
                "#B0BEC5",
                "#B0BEC5",
                "#B0BEC5",
                "#B0BEC5",
                "#B0BEC5",
                "#B0BEC5",
                "#B0BEC5",
                "#B0BEC5",
                "#B0BEC5",
                "#B0BEC5",
                "#B0BEC5",
                "#B0BEC5",
                "#B0BEC5",
                "#B0BEC5",
                "#B0BEC5",
                "#B0BEC5",
                "#B0BEC5",
                "#B0BEC5",
                "#B0BEC5",
                "#B0BEC5",
                "#B0BEC5",
                "#B0BEC5",
                "red",
                "#B0BEC5",
                "#B0BEC5",
                "#B0BEC5",
                "#B0BEC5",
                "#B0BEC5"
               ]
              ]
             }
            ],
            "label": "Topic 26",
            "method": "update"
           },
           {
            "args": [
             {
              "marker.color": [
               [
                "#B0BEC5",
                "#B0BEC5",
                "#B0BEC5",
                "#B0BEC5",
                "#B0BEC5",
                "#B0BEC5",
                "#B0BEC5",
                "#B0BEC5",
                "#B0BEC5",
                "#B0BEC5",
                "#B0BEC5",
                "#B0BEC5",
                "#B0BEC5",
                "#B0BEC5",
                "#B0BEC5",
                "#B0BEC5",
                "#B0BEC5",
                "#B0BEC5",
                "#B0BEC5",
                "#B0BEC5",
                "#B0BEC5",
                "#B0BEC5",
                "#B0BEC5",
                "#B0BEC5",
                "#B0BEC5",
                "#B0BEC5",
                "#B0BEC5",
                "red",
                "#B0BEC5",
                "#B0BEC5",
                "#B0BEC5",
                "#B0BEC5"
               ]
              ]
             }
            ],
            "label": "Topic 27",
            "method": "update"
           },
           {
            "args": [
             {
              "marker.color": [
               [
                "#B0BEC5",
                "#B0BEC5",
                "#B0BEC5",
                "#B0BEC5",
                "#B0BEC5",
                "#B0BEC5",
                "#B0BEC5",
                "#B0BEC5",
                "#B0BEC5",
                "#B0BEC5",
                "#B0BEC5",
                "#B0BEC5",
                "#B0BEC5",
                "#B0BEC5",
                "#B0BEC5",
                "#B0BEC5",
                "#B0BEC5",
                "#B0BEC5",
                "#B0BEC5",
                "#B0BEC5",
                "#B0BEC5",
                "#B0BEC5",
                "#B0BEC5",
                "#B0BEC5",
                "#B0BEC5",
                "#B0BEC5",
                "#B0BEC5",
                "#B0BEC5",
                "red",
                "#B0BEC5",
                "#B0BEC5",
                "#B0BEC5"
               ]
              ]
             }
            ],
            "label": "Topic 28",
            "method": "update"
           },
           {
            "args": [
             {
              "marker.color": [
               [
                "#B0BEC5",
                "#B0BEC5",
                "#B0BEC5",
                "#B0BEC5",
                "#B0BEC5",
                "#B0BEC5",
                "#B0BEC5",
                "#B0BEC5",
                "#B0BEC5",
                "#B0BEC5",
                "#B0BEC5",
                "#B0BEC5",
                "#B0BEC5",
                "#B0BEC5",
                "#B0BEC5",
                "#B0BEC5",
                "#B0BEC5",
                "#B0BEC5",
                "#B0BEC5",
                "#B0BEC5",
                "#B0BEC5",
                "#B0BEC5",
                "#B0BEC5",
                "#B0BEC5",
                "#B0BEC5",
                "#B0BEC5",
                "#B0BEC5",
                "#B0BEC5",
                "#B0BEC5",
                "red",
                "#B0BEC5",
                "#B0BEC5"
               ]
              ]
             }
            ],
            "label": "Topic 29",
            "method": "update"
           },
           {
            "args": [
             {
              "marker.color": [
               [
                "#B0BEC5",
                "#B0BEC5",
                "#B0BEC5",
                "#B0BEC5",
                "#B0BEC5",
                "#B0BEC5",
                "#B0BEC5",
                "#B0BEC5",
                "#B0BEC5",
                "#B0BEC5",
                "#B0BEC5",
                "#B0BEC5",
                "#B0BEC5",
                "#B0BEC5",
                "#B0BEC5",
                "#B0BEC5",
                "#B0BEC5",
                "#B0BEC5",
                "#B0BEC5",
                "#B0BEC5",
                "#B0BEC5",
                "#B0BEC5",
                "#B0BEC5",
                "#B0BEC5",
                "#B0BEC5",
                "#B0BEC5",
                "#B0BEC5",
                "#B0BEC5",
                "#B0BEC5",
                "#B0BEC5",
                "red",
                "#B0BEC5"
               ]
              ]
             }
            ],
            "label": "Topic 30",
            "method": "update"
           },
           {
            "args": [
             {
              "marker.color": [
               [
                "#B0BEC5",
                "#B0BEC5",
                "#B0BEC5",
                "#B0BEC5",
                "#B0BEC5",
                "#B0BEC5",
                "#B0BEC5",
                "#B0BEC5",
                "#B0BEC5",
                "#B0BEC5",
                "#B0BEC5",
                "#B0BEC5",
                "#B0BEC5",
                "#B0BEC5",
                "#B0BEC5",
                "#B0BEC5",
                "#B0BEC5",
                "#B0BEC5",
                "#B0BEC5",
                "#B0BEC5",
                "#B0BEC5",
                "#B0BEC5",
                "#B0BEC5",
                "#B0BEC5",
                "#B0BEC5",
                "#B0BEC5",
                "#B0BEC5",
                "#B0BEC5",
                "#B0BEC5",
                "#B0BEC5",
                "#B0BEC5",
                "red"
               ]
              ]
             }
            ],
            "label": "Topic 31",
            "method": "update"
           }
          ]
         }
        ],
        "template": {
         "data": {
          "bar": [
           {
            "error_x": {
             "color": "rgb(36,36,36)"
            },
            "error_y": {
             "color": "rgb(36,36,36)"
            },
            "marker": {
             "line": {
              "color": "white",
              "width": 0.5
             },
             "pattern": {
              "fillmode": "overlay",
              "size": 10,
              "solidity": 0.2
             }
            },
            "type": "bar"
           }
          ],
          "barpolar": [
           {
            "marker": {
             "line": {
              "color": "white",
              "width": 0.5
             },
             "pattern": {
              "fillmode": "overlay",
              "size": 10,
              "solidity": 0.2
             }
            },
            "type": "barpolar"
           }
          ],
          "carpet": [
           {
            "aaxis": {
             "endlinecolor": "rgb(36,36,36)",
             "gridcolor": "white",
             "linecolor": "white",
             "minorgridcolor": "white",
             "startlinecolor": "rgb(36,36,36)"
            },
            "baxis": {
             "endlinecolor": "rgb(36,36,36)",
             "gridcolor": "white",
             "linecolor": "white",
             "minorgridcolor": "white",
             "startlinecolor": "rgb(36,36,36)"
            },
            "type": "carpet"
           }
          ],
          "choropleth": [
           {
            "colorbar": {
             "outlinewidth": 1,
             "tickcolor": "rgb(36,36,36)",
             "ticks": "outside"
            },
            "type": "choropleth"
           }
          ],
          "contour": [
           {
            "colorbar": {
             "outlinewidth": 1,
             "tickcolor": "rgb(36,36,36)",
             "ticks": "outside"
            },
            "colorscale": [
             [
              0,
              "#440154"
             ],
             [
              0.1111111111111111,
              "#482878"
             ],
             [
              0.2222222222222222,
              "#3e4989"
             ],
             [
              0.3333333333333333,
              "#31688e"
             ],
             [
              0.4444444444444444,
              "#26828e"
             ],
             [
              0.5555555555555556,
              "#1f9e89"
             ],
             [
              0.6666666666666666,
              "#35b779"
             ],
             [
              0.7777777777777778,
              "#6ece58"
             ],
             [
              0.8888888888888888,
              "#b5de2b"
             ],
             [
              1,
              "#fde725"
             ]
            ],
            "type": "contour"
           }
          ],
          "contourcarpet": [
           {
            "colorbar": {
             "outlinewidth": 1,
             "tickcolor": "rgb(36,36,36)",
             "ticks": "outside"
            },
            "type": "contourcarpet"
           }
          ],
          "heatmap": [
           {
            "colorbar": {
             "outlinewidth": 1,
             "tickcolor": "rgb(36,36,36)",
             "ticks": "outside"
            },
            "colorscale": [
             [
              0,
              "#440154"
             ],
             [
              0.1111111111111111,
              "#482878"
             ],
             [
              0.2222222222222222,
              "#3e4989"
             ],
             [
              0.3333333333333333,
              "#31688e"
             ],
             [
              0.4444444444444444,
              "#26828e"
             ],
             [
              0.5555555555555556,
              "#1f9e89"
             ],
             [
              0.6666666666666666,
              "#35b779"
             ],
             [
              0.7777777777777778,
              "#6ece58"
             ],
             [
              0.8888888888888888,
              "#b5de2b"
             ],
             [
              1,
              "#fde725"
             ]
            ],
            "type": "heatmap"
           }
          ],
          "histogram": [
           {
            "marker": {
             "line": {
              "color": "white",
              "width": 0.6
             }
            },
            "type": "histogram"
           }
          ],
          "histogram2d": [
           {
            "colorbar": {
             "outlinewidth": 1,
             "tickcolor": "rgb(36,36,36)",
             "ticks": "outside"
            },
            "colorscale": [
             [
              0,
              "#440154"
             ],
             [
              0.1111111111111111,
              "#482878"
             ],
             [
              0.2222222222222222,
              "#3e4989"
             ],
             [
              0.3333333333333333,
              "#31688e"
             ],
             [
              0.4444444444444444,
              "#26828e"
             ],
             [
              0.5555555555555556,
              "#1f9e89"
             ],
             [
              0.6666666666666666,
              "#35b779"
             ],
             [
              0.7777777777777778,
              "#6ece58"
             ],
             [
              0.8888888888888888,
              "#b5de2b"
             ],
             [
              1,
              "#fde725"
             ]
            ],
            "type": "histogram2d"
           }
          ],
          "histogram2dcontour": [
           {
            "colorbar": {
             "outlinewidth": 1,
             "tickcolor": "rgb(36,36,36)",
             "ticks": "outside"
            },
            "colorscale": [
             [
              0,
              "#440154"
             ],
             [
              0.1111111111111111,
              "#482878"
             ],
             [
              0.2222222222222222,
              "#3e4989"
             ],
             [
              0.3333333333333333,
              "#31688e"
             ],
             [
              0.4444444444444444,
              "#26828e"
             ],
             [
              0.5555555555555556,
              "#1f9e89"
             ],
             [
              0.6666666666666666,
              "#35b779"
             ],
             [
              0.7777777777777778,
              "#6ece58"
             ],
             [
              0.8888888888888888,
              "#b5de2b"
             ],
             [
              1,
              "#fde725"
             ]
            ],
            "type": "histogram2dcontour"
           }
          ],
          "mesh3d": [
           {
            "colorbar": {
             "outlinewidth": 1,
             "tickcolor": "rgb(36,36,36)",
             "ticks": "outside"
            },
            "type": "mesh3d"
           }
          ],
          "parcoords": [
           {
            "line": {
             "colorbar": {
              "outlinewidth": 1,
              "tickcolor": "rgb(36,36,36)",
              "ticks": "outside"
             }
            },
            "type": "parcoords"
           }
          ],
          "pie": [
           {
            "automargin": true,
            "type": "pie"
           }
          ],
          "scatter": [
           {
            "fillpattern": {
             "fillmode": "overlay",
             "size": 10,
             "solidity": 0.2
            },
            "type": "scatter"
           }
          ],
          "scatter3d": [
           {
            "line": {
             "colorbar": {
              "outlinewidth": 1,
              "tickcolor": "rgb(36,36,36)",
              "ticks": "outside"
             }
            },
            "marker": {
             "colorbar": {
              "outlinewidth": 1,
              "tickcolor": "rgb(36,36,36)",
              "ticks": "outside"
             }
            },
            "type": "scatter3d"
           }
          ],
          "scattercarpet": [
           {
            "marker": {
             "colorbar": {
              "outlinewidth": 1,
              "tickcolor": "rgb(36,36,36)",
              "ticks": "outside"
             }
            },
            "type": "scattercarpet"
           }
          ],
          "scattergeo": [
           {
            "marker": {
             "colorbar": {
              "outlinewidth": 1,
              "tickcolor": "rgb(36,36,36)",
              "ticks": "outside"
             }
            },
            "type": "scattergeo"
           }
          ],
          "scattergl": [
           {
            "marker": {
             "colorbar": {
              "outlinewidth": 1,
              "tickcolor": "rgb(36,36,36)",
              "ticks": "outside"
             }
            },
            "type": "scattergl"
           }
          ],
          "scattermap": [
           {
            "marker": {
             "colorbar": {
              "outlinewidth": 1,
              "tickcolor": "rgb(36,36,36)",
              "ticks": "outside"
             }
            },
            "type": "scattermap"
           }
          ],
          "scattermapbox": [
           {
            "marker": {
             "colorbar": {
              "outlinewidth": 1,
              "tickcolor": "rgb(36,36,36)",
              "ticks": "outside"
             }
            },
            "type": "scattermapbox"
           }
          ],
          "scatterpolar": [
           {
            "marker": {
             "colorbar": {
              "outlinewidth": 1,
              "tickcolor": "rgb(36,36,36)",
              "ticks": "outside"
             }
            },
            "type": "scatterpolar"
           }
          ],
          "scatterpolargl": [
           {
            "marker": {
             "colorbar": {
              "outlinewidth": 1,
              "tickcolor": "rgb(36,36,36)",
              "ticks": "outside"
             }
            },
            "type": "scatterpolargl"
           }
          ],
          "scatterternary": [
           {
            "marker": {
             "colorbar": {
              "outlinewidth": 1,
              "tickcolor": "rgb(36,36,36)",
              "ticks": "outside"
             }
            },
            "type": "scatterternary"
           }
          ],
          "surface": [
           {
            "colorbar": {
             "outlinewidth": 1,
             "tickcolor": "rgb(36,36,36)",
             "ticks": "outside"
            },
            "colorscale": [
             [
              0,
              "#440154"
             ],
             [
              0.1111111111111111,
              "#482878"
             ],
             [
              0.2222222222222222,
              "#3e4989"
             ],
             [
              0.3333333333333333,
              "#31688e"
             ],
             [
              0.4444444444444444,
              "#26828e"
             ],
             [
              0.5555555555555556,
              "#1f9e89"
             ],
             [
              0.6666666666666666,
              "#35b779"
             ],
             [
              0.7777777777777778,
              "#6ece58"
             ],
             [
              0.8888888888888888,
              "#b5de2b"
             ],
             [
              1,
              "#fde725"
             ]
            ],
            "type": "surface"
           }
          ],
          "table": [
           {
            "cells": {
             "fill": {
              "color": "rgb(237,237,237)"
             },
             "line": {
              "color": "white"
             }
            },
            "header": {
             "fill": {
              "color": "rgb(217,217,217)"
             },
             "line": {
              "color": "white"
             }
            },
            "type": "table"
           }
          ]
         },
         "layout": {
          "annotationdefaults": {
           "arrowhead": 0,
           "arrowwidth": 1
          },
          "autotypenumbers": "strict",
          "coloraxis": {
           "colorbar": {
            "outlinewidth": 1,
            "tickcolor": "rgb(36,36,36)",
            "ticks": "outside"
           }
          },
          "colorscale": {
           "diverging": [
            [
             0,
             "rgb(103,0,31)"
            ],
            [
             0.1,
             "rgb(178,24,43)"
            ],
            [
             0.2,
             "rgb(214,96,77)"
            ],
            [
             0.3,
             "rgb(244,165,130)"
            ],
            [
             0.4,
             "rgb(253,219,199)"
            ],
            [
             0.5,
             "rgb(247,247,247)"
            ],
            [
             0.6,
             "rgb(209,229,240)"
            ],
            [
             0.7,
             "rgb(146,197,222)"
            ],
            [
             0.8,
             "rgb(67,147,195)"
            ],
            [
             0.9,
             "rgb(33,102,172)"
            ],
            [
             1,
             "rgb(5,48,97)"
            ]
           ],
           "sequential": [
            [
             0,
             "#440154"
            ],
            [
             0.1111111111111111,
             "#482878"
            ],
            [
             0.2222222222222222,
             "#3e4989"
            ],
            [
             0.3333333333333333,
             "#31688e"
            ],
            [
             0.4444444444444444,
             "#26828e"
            ],
            [
             0.5555555555555556,
             "#1f9e89"
            ],
            [
             0.6666666666666666,
             "#35b779"
            ],
            [
             0.7777777777777778,
             "#6ece58"
            ],
            [
             0.8888888888888888,
             "#b5de2b"
            ],
            [
             1,
             "#fde725"
            ]
           ],
           "sequentialminus": [
            [
             0,
             "#440154"
            ],
            [
             0.1111111111111111,
             "#482878"
            ],
            [
             0.2222222222222222,
             "#3e4989"
            ],
            [
             0.3333333333333333,
             "#31688e"
            ],
            [
             0.4444444444444444,
             "#26828e"
            ],
            [
             0.5555555555555556,
             "#1f9e89"
            ],
            [
             0.6666666666666666,
             "#35b779"
            ],
            [
             0.7777777777777778,
             "#6ece58"
            ],
            [
             0.8888888888888888,
             "#b5de2b"
            ],
            [
             1,
             "#fde725"
            ]
           ]
          },
          "colorway": [
           "#1F77B4",
           "#FF7F0E",
           "#2CA02C",
           "#D62728",
           "#9467BD",
           "#8C564B",
           "#E377C2",
           "#7F7F7F",
           "#BCBD22",
           "#17BECF"
          ],
          "font": {
           "color": "rgb(36,36,36)"
          },
          "geo": {
           "bgcolor": "white",
           "lakecolor": "white",
           "landcolor": "white",
           "showlakes": true,
           "showland": true,
           "subunitcolor": "white"
          },
          "hoverlabel": {
           "align": "left"
          },
          "hovermode": "closest",
          "mapbox": {
           "style": "light"
          },
          "paper_bgcolor": "white",
          "plot_bgcolor": "white",
          "polar": {
           "angularaxis": {
            "gridcolor": "rgb(232,232,232)",
            "linecolor": "rgb(36,36,36)",
            "showgrid": false,
            "showline": true,
            "ticks": "outside"
           },
           "bgcolor": "white",
           "radialaxis": {
            "gridcolor": "rgb(232,232,232)",
            "linecolor": "rgb(36,36,36)",
            "showgrid": false,
            "showline": true,
            "ticks": "outside"
           }
          },
          "scene": {
           "xaxis": {
            "backgroundcolor": "white",
            "gridcolor": "rgb(232,232,232)",
            "gridwidth": 2,
            "linecolor": "rgb(36,36,36)",
            "showbackground": true,
            "showgrid": false,
            "showline": true,
            "ticks": "outside",
            "zeroline": false,
            "zerolinecolor": "rgb(36,36,36)"
           },
           "yaxis": {
            "backgroundcolor": "white",
            "gridcolor": "rgb(232,232,232)",
            "gridwidth": 2,
            "linecolor": "rgb(36,36,36)",
            "showbackground": true,
            "showgrid": false,
            "showline": true,
            "ticks": "outside",
            "zeroline": false,
            "zerolinecolor": "rgb(36,36,36)"
           },
           "zaxis": {
            "backgroundcolor": "white",
            "gridcolor": "rgb(232,232,232)",
            "gridwidth": 2,
            "linecolor": "rgb(36,36,36)",
            "showbackground": true,
            "showgrid": false,
            "showline": true,
            "ticks": "outside",
            "zeroline": false,
            "zerolinecolor": "rgb(36,36,36)"
           }
          },
          "shapedefaults": {
           "fillcolor": "black",
           "line": {
            "width": 0
           },
           "opacity": 0.3
          },
          "ternary": {
           "aaxis": {
            "gridcolor": "rgb(232,232,232)",
            "linecolor": "rgb(36,36,36)",
            "showgrid": false,
            "showline": true,
            "ticks": "outside"
           },
           "baxis": {
            "gridcolor": "rgb(232,232,232)",
            "linecolor": "rgb(36,36,36)",
            "showgrid": false,
            "showline": true,
            "ticks": "outside"
           },
           "bgcolor": "white",
           "caxis": {
            "gridcolor": "rgb(232,232,232)",
            "linecolor": "rgb(36,36,36)",
            "showgrid": false,
            "showline": true,
            "ticks": "outside"
           }
          },
          "title": {
           "x": 0.05
          },
          "xaxis": {
           "automargin": true,
           "gridcolor": "rgb(232,232,232)",
           "linecolor": "rgb(36,36,36)",
           "showgrid": false,
           "showline": true,
           "ticks": "outside",
           "title": {
            "standoff": 15
           },
           "zeroline": false,
           "zerolinecolor": "rgb(36,36,36)"
          },
          "yaxis": {
           "automargin": true,
           "gridcolor": "rgb(232,232,232)",
           "linecolor": "rgb(36,36,36)",
           "showgrid": false,
           "showline": true,
           "ticks": "outside",
           "title": {
            "standoff": 15
           },
           "zeroline": false,
           "zerolinecolor": "rgb(36,36,36)"
          }
         }
        },
        "title": {
         "font": {
          "color": "Black",
          "size": 22
         },
         "text": "<b>Intertopic Distance Map</b>",
         "x": 0.5,
         "xanchor": "center",
         "y": 0.95,
         "yanchor": "top"
        },
        "width": 650,
        "xaxis": {
         "anchor": "y",
         "domain": [
          0,
          1
         ],
         "range": [
          0.054782654717564584,
          26.834663295745848
         ],
         "title": {
          "text": ""
         },
         "visible": false
        },
        "yaxis": {
         "anchor": "x",
         "domain": [
          0,
          1
         ],
         "range": [
          -15.28349666595459,
          10.664683437347412
         ],
         "title": {
          "text": ""
         },
         "visible": false
        }
       }
      }
     },
     "metadata": {},
     "output_type": "display_data"
    }
   ],
   "source": [
    "# convert the lyrics to vectors\n",
    "embedding_model = SentenceTransformer(\"hiiamsid/sentence_similarity_spanish_es\")\n",
    "\n",
    "topic_model = BERTopic(embedding_model=embedding_model, language=\"spanish\")\n",
    "\n",
    "# umap for dimensionality reduction\n",
    "umap_model = UMAP(n_components=5, random_state=42)\n",
    "# kmeans for clustering, note: param is still called `hdbscan_model` in BERTopic\n",
    "# using 32 clusters, it is more than the number of genres and also decades\n",
    "n_clusters = 32\n",
    "kmeans_model = KMeans(n_clusters=n_clusters, random_state=42)\n",
    "\n",
    "topic_model = BERTopic(\n",
    "    embedding_model=embedding_model,\n",
    "    language=\"spanish\",\n",
    "    umap_model=umap_model,\n",
    "    hdbscan_model=kmeans_model  # note: param is still called `hdbscan_model`\n",
    ")\n",
    "\n",
    "docs = df['cleaned_lyrics'].tolist()\n",
    "topics, probs = topic_model.fit_transform(docs)\n",
    "\n",
    "# Save the model\n",
    "topic_model.save(f\"c:/Users/rmessina/Eli/models/hiiamsid_bertopic_kmeans{n_clusters}_umap_spanish_lyrics\")\n",
    "\n",
    "topic_model.visualize_topics()\n",
    "\n",
    "# takes 45-50min!\n"
   ]
  },
  {
   "cell_type": "markdown",
   "id": "a84af671",
   "metadata": {},
   "source": [
    "## TODO: see the correlations between the topics and the annotations we have: decade, tag and views\n",
    "## also regroup based on overlap"
   ]
  },
  {
   "cell_type": "code",
   "execution_count": 7,
   "id": "8c6da42c",
   "metadata": {},
   "outputs": [
    {
     "data": {
      "image/png": "[encoded data removed]",
      "text/plain": [
       "<Figure size 1400x800 with 2 Axes>"
      ]
     },
     "metadata": {},
     "output_type": "display_data"
    }
   ],
   "source": [
    "import matplotlib.pyplot as plt\n",
    "import seaborn as sns\n",
    "\n",
    "# Add topics to your dataframe\n",
    "df['topic'] = topics\n",
    "\n",
    "# Create cross-tabulation of decade vs topics\n",
    "decade_topic = pd.crosstab(df['decade'], df['topic'])\n",
    "\n",
    "# Normalize by decade to get percentages\n",
    "decade_topic_norm = decade_topic.div(decade_topic.sum(axis=1), axis=0)\n",
    "\n",
    "# Heatmap visualization\n",
    "plt.figure(figsize=(14, 8))\n",
    "sns.heatmap(decade_topic_norm, cmap=\"YlGnBu\", annot=False)\n",
    "plt.title('Topic Distribution by Decade')\n",
    "plt.ylabel('Decade')\n",
    "plt.xlabel('Topic')\n",
    "plt.tight_layout()\n",
    "plt.show()"
   ]
  },
  {
   "cell_type": "code",
   "execution_count": 8,
   "id": "a732bf0f",
   "metadata": {},
   "outputs": [
    {
     "data": {
      "image/png": "[encoded data removed]",
      "text/plain": [
       "<Figure size 1400x1000 with 2 Axes>"
      ]
     },
     "metadata": {},
     "output_type": "display_data"
    }
   ],
   "source": [
    "# Create cross-tabulation of tag vs topics\n",
    "tag_topic = pd.crosstab(df['tag'], df['topic'])\n",
    "\n",
    "# Normalize by tag\n",
    "tag_topic_norm = tag_topic.div(tag_topic.sum(axis=1), axis=0)\n",
    "\n",
    "# Heatmap for tag distribution\n",
    "plt.figure(figsize=(14, 10))\n",
    "sns.heatmap(tag_topic_norm, cmap=\"YlGnBu\", annot=False)\n",
    "plt.title('Topic Distribution by Music Tag/Genre')\n",
    "plt.ylabel('Tag')\n",
    "plt.xlabel('Topic')\n",
    "plt.tight_layout()\n",
    "plt.show()"
   ]
  },
  {
   "cell_type": "code",
   "execution_count": 9,
   "id": "bef24642",
   "metadata": {},
   "outputs": [
    {
     "data": {
      "image/png": "[encoded data removed]",
      "text/plain": [
       "<Figure size 1200x600 with 1 Axes>"
      ]
     },
     "metadata": {},
     "output_type": "display_data"
    }
   ],
   "source": [
    "# Group by topic and calculate mean views\n",
    "topic_views = df.groupby('topic')['views'].mean().sort_values(ascending=False)\n",
    "\n",
    "# Visualize top topics by views\n",
    "plt.figure(figsize=(12, 6))\n",
    "topic_views.plot(kind='bar')\n",
    "plt.title('Average Views by Topic')\n",
    "plt.xlabel('Topic')\n",
    "plt.ylabel('Average Views')\n",
    "plt.tight_layout()\n",
    "plt.show()"
   ]
  },
  {
   "cell_type": "code",
   "execution_count": 12,
   "id": "ede11fce",
   "metadata": {},
   "outputs": [
    {
     "name": "stdout",
     "output_type": "stream",
     "text": [
      "Sample lyrics from topic 1:\n",
      "\n",
      "Example 1:\n",
      "you know los capos están ready las mamis están ready y en la calle estamos ready yeah yeah andamos ready los barrios están ready one two get ready come on oh oh oh oh rompe rompe rompe bien guillao ro...\n",
      "\n",
      "Example 2:\n",
      "conozco una muchacha y ella es fina tremendos cocos y también es linda a veces me la cojo en la cocina esta muchacha me chupa la pinga yo le dije dame tu bollo me dice negro loco tu no eres mi novio a...\n",
      "\n",
      "Example 3:\n",
      "auoooooooohhh oooouuuuhhhhhh uuuooohhhh walking out and looking back no moooore forget about how i loved befooore cuz my time is running out and the door is looking close so now the more ill wait the ...\n",
      "\n",
      "Example 4:\n",
      "letra de ven conmigo ft prince royce d-d-d-dy royce ive seen her walk at the club showing up her sexy flow dy sexy flow sexy flow thats right una chiquita caliente me enamoré de sus ojos de sus ojos y...\n",
      "\n",
      "Example 5:\n",
      "a yo k lo k oro 24 nikolodian en el remix de la tosting light esta totadoro si ta tosting light tosting lighttosting light eta totadora si ta tosting light tosting lighttosting light sin conocerme se ...\n"
     ]
    }
   ],
   "source": [
    "# Get documents from topic 1\n",
    "topic_id = 1  # The topic you're interested in\n",
    "topic_docs = df[df['topic'] == topic_id]['cleaned_lyrics'].tolist()\n",
    "\n",
    "# Display a few examples (e.g., first 5)\n",
    "print(f\"Sample lyrics from topic {topic_id}:\")\n",
    "for i, doc in enumerate(topic_docs[:5]):\n",
    "    print(f\"\\nExample {i+1}:\")\n",
    "    print(doc[:200] + \"...\" if len(doc) > 200 else doc)  # Truncate long lyrics"
   ]
  },
  {
   "cell_type": "code",
   "execution_count": 13,
   "id": "add384c1",
   "metadata": {},
   "outputs": [
    {
     "name": "stdout",
     "output_type": "stream",
     "text": [
      "Most representative lyrics for topic 1:\n",
      "\n",
      "Example 1:\n",
      "oye mamá jajajaja tranquilo papá eto e’ merenglass urbano oye swift porque ella me llama a mí cuando ya no está contigo y dice que quiere salir sabe que yo soy tu amigo yo yo yo yo yo sé que ya tiene ...\n",
      "\n",
      "Example 2:\n",
      "fue un placer ya me voy gusto en conocerte para el otro jueves quisiera volver a hacerte si cambio los planes puede que no te conteste estaré con otra también quiere que la inyecte y tu pa salir activ...\n",
      "\n",
      "Example 3:\n",
      "ac3 on the track eh eh que se lo haga en la mañana eh yo me la como pa desayuno yeh antes de prenderme uno ah tengo que hacérselo bien duro yeh-yeh se pone ratchet eso me gusta ah ready pa hacer de to...\n"
     ]
    }
   ],
   "source": [
    "# Get the most representative documents for topic 1\n",
    "representative_docs = topic_model.get_representative_docs(topic=1)\n",
    "\n",
    "# Display them\n",
    "print(f\"Most representative lyrics for topic {topic_id}:\")\n",
    "for i, doc in enumerate(representative_docs[:5]):\n",
    "    print(f\"\\nExample {i+1}:\")\n",
    "    print(doc[:200] + \"...\" if len(doc) > 200 else doc)"
   ]
  },
  {
   "cell_type": "code",
   "execution_count": 20,
   "id": "187680d7",
   "metadata": {},
   "outputs": [
    {
     "name": "stdout",
     "output_type": "stream",
     "text": [
      "Top songs from topic 1 by views:\n",
      "\n",
      "1. Luis Fonsi & Daddy Yankee - Despacito Remix (2010, pop, 23351415 views)\n",
      "comin over in my direction so thankful for that its such a blessin yeah turn every situation into he...\n",
      "\n",
      "2. J Balvin & Willy William - Mi Gente (2010, pop, 1558734 views)\n",
      "si el ritmo te lleva a mover la cabeza ya empezamos como es mi música no discrimina a nadie así que ...\n",
      "\n",
      "3. Bad Bunny, Jowell & Randy & engo Flow - Safaera (2020, pop, 990457 views)\n",
      "bla bla bla bla bla bla ey yo yo yo yo yo yo yo yah lalalalalalala blow blow lalalalalalala diablo q...\n",
      "\n",
      "4. Romeo Santos - Odio (2010, pop, 953790 views)\n",
      "yeah yeah envy is a sign of admiration hate it’s the epitome of destruction tal parece que mi amor c...\n",
      "\n",
      "5. J Balvin & Willy William - Mi Gente Beyoncé Remix (2010, pop, 652032 views)\n",
      "si el ritmo te lleva a mover la cabeza ya empezamos cómo es mi música no discrimina a nadie así que ...\n"
     ]
    }
   ],
   "source": [
    "# Display songs with artist and title information\n",
    "topic_songs = df[df['topic'] == topic_id][['artist', 'title', 'cleaned_lyrics', 'views', 'decade', 'tag']]\n",
    "topic_songs_sorted = topic_songs.sort_values('views', ascending=False)\n",
    "\n",
    "print(f\"Top songs from topic {topic_id} by views:\")\n",
    "for i, (_, row) in enumerate(topic_songs_sorted.head(5).iterrows()):\n",
    "    print(f\"\\n{i+1}. {row['artist']} - {row['title']} ({row['decade']}, {row['tag']}, {row['views']} views)\")\n",
    "    print(row['cleaned_lyrics'][:100] + \"...\" if len(row['cleaned_lyrics']) > 100 else row['cleaned_lyrics'])"
   ]
  },
  {
   "cell_type": "code",
   "execution_count": null,
   "id": "0e13703b",
   "metadata": {},
   "outputs": [
    {
     "name": "stdout",
     "output_type": "stream",
     "text": [
      "    Topic  Count                             Name  \\\n",
      "0       0  15194                   0_la_que_me_te   \n",
      "1       1  14213                   1_la_me_no_que   \n",
      "2       2  13318                    2_el_de_la_en   \n",
      "3       3  12509                   3_no_te_que_me   \n",
      "4       4  12005                    4_de_la_el_en   \n",
      "5       5  11851                   5_no_que_te_me   \n",
      "6       6  11772                   6_de_el_la_que   \n",
      "7       7  11642                    7_la_el_en_no   \n",
      "8       8  11631                 8_amor_tu_mi_que   \n",
      "9       9  11000                    9_oh_no_ah_me   \n",
      "10     10  10938                   10_de_el_la_en   \n",
      "11     11  10922                  11_tu_que_te_mi   \n",
      "12     12  10853                  12_no_que_me_de   \n",
      "13     13  10780                  13_la_de_el_que   \n",
      "14     14  10137                  14_no_que_te_me   \n",
      "15     15  10106                  15_de_el_que_en   \n",
      "16     16   9595                  16_que_de_no_la   \n",
      "17     17   9322                  17_que_no_te_me   \n",
      "18     18   8225                  18_no_que_me_de   \n",
      "19     19   8126                  19_que_te_me_tu   \n",
      "20     20   7966                  20_que_tu_mi_te   \n",
      "21     21   7956                  21_de_no_que_la   \n",
      "22     22   7504                  22_el_de_la_que   \n",
      "23     23   6333                   23_de_el_en_la   \n",
      "24     24   6247                  24_la_el_de_los   \n",
      "25     25   6145                  25_que_te_me_no   \n",
      "26     26   4162                   26_de_la_el_en   \n",
      "27     27   3607           27_dios_tu_señor_jesús   \n",
      "28     28    303         28_bamba_beben_arriba_tú   \n",
      "29     29    301            29_bon_adoro_que_amor   \n",
      "30     30    225  30_guantanamera_guajira_eres_de   \n",
      "31     31    171  31_bésame_perderte_besame_mucho   \n",
      "\n",
      "                                       Representation  \\\n",
      "0         [la, que, me, te, yo, pa, ella, no, se, lo]   \n",
      "1         [la, me, no, que, el, yo, lo, pa, en, yeah]   \n",
      "2         [el, de, la, en, que, con, no, los, un, es]   \n",
      "3         [no, te, que, me, amor, ya, tu, de, mi, yo]   \n",
      "4         [de, la, el, en, los, que, un, es, se, del]   \n",
      "5           [no, que, te, me, lo, yo, de, si, tú, tu]   \n",
      "6          [de, el, la, que, en, no, es, un, los, lo]   \n",
      "7          [la, el, en, no, me, con, de, pa, lo, que]   \n",
      "8     [amor, tu, mi, que, te, quiero, me, ti, de, yo]   \n",
      "9           [oh, no, ah, me, na, que, te, uh, yo, tú]   \n",
      "10         [de, el, la, en, que, un, se, no, es, las]   \n",
      "11       [tu, que, te, mi, no, amor, me, mas, yo, ti]   \n",
      "12          [no, que, me, de, lo, en, te, el, la, es]   \n",
      "13         [la, de, el, que, no, en, un, me, lo, los]   \n",
      "14        [no, que, te, me, ya, de, mi, amor, yo, lo]   \n",
      "15        [de, el, que, en, tu, la, mi, amor, un, te]   \n",
      "16          [que, de, no, la, el, en, me, es, lo, un]   \n",
      "17        [que, no, te, me, de, mi, tu, amor, en, el]   \n",
      "18          [no, que, me, de, lo, en, el, la, mi, es]   \n",
      "19      [que, te, me, tu, yo, quiero, la, tú, de, no]   \n",
      "20       [que, tu, mi, te, no, de, me, amor, mas, el]   \n",
      "21          [de, no, que, la, el, en, me, un, lo, mi]   \n",
      "22          [el, de, la, que, en, no, es, se, un, tu]   \n",
      "23         [de, el, en, la, que, tu, un, mi, mar, se]   \n",
      "24       [la, el, de, los, se, que, en, con, un, por]   \n",
      "25          [que, te, me, no, yo, tu, la, lo, de, mi]   \n",
      "26        [de, la, el, en, que, del, un, su, se, los]   \n",
      "27  [dios, tu, señor, jesús, mi, gloria, en, ti, e...   \n",
      "28  [bamba, beben, arriba, tú, poca, una, gracia, ...   \n",
      "29  [bon, adoro, que, amor, queda, me, pom, la, te...   \n",
      "30  [guantanamera, guajira, eres, de, comandante, ...   \n",
      "31  [bésame, perderte, besame, mucho, vez, bomba, ...   \n",
      "\n",
      "                                  Representative_Docs  \n",
      "0   [rc la sensa tivi gunz ah-na-no ella era de su...  \n",
      "1   [oye mamá jajajaja tranquilo papá eto e’ meren...  \n",
      "2   [letra de a caraperro ft ramos inkogni sunk da...  \n",
      "3   [ah-ah ah no sé por qué eres así si todavía me...  \n",
      "4   [quién quién quién tiene el poder para saber s...  \n",
      "5   [y yo no sé que tiene ella que con tan solo un...  \n",
      "6   [eh metete un dedo al culo y sácate un moco si...  \n",
      "7   [woh-woh-oh uno dímelo químico los legendarios...  \n",
      "8   [tengo ganas de mirarte en este momento record...  \n",
      "9   [me estás hundiendo en un mar de amor yo sé qu...  \n",
      "10  [cuando de niño crees la vida de superheroes c...  \n",
      "11  [hoy vivo muriendo en soledad si no te tengo s...  \n",
      "12  [tan solo dime por qué dime por qué no te pued...  \n",
      "13  [tay keith que le den a estos negros ey sí tay...  \n",
      "14  [ah-ah-ah-ah no entre tanta gente yo te vi lle...  \n",
      "15  [in a blessing and and thats why we wanna shar...  \n",
      "16  [hoy estoy loco mañana te eclipso el sol arrib...  \n",
      "17  [me necesito más que a nada ya no apuesto más ...  \n",
      "18  [que nos pasó 🍂  danny slick  ds 🇪🇨 ☯ coro y h...  \n",
      "19  [y tú quieres estar conmigo siento frío en la ...  \n",
      "20  [tema hoy me siento solo album conocimiento ex...  \n",
      "21  [y cada vez que yo me acuerde de tus ojos de a...  \n",
      "22  [en un mundo sin barreras ni fronteras donde s...  \n",
      "23  [entrando a mirarte verte tocarte sentirte tan...  \n",
      "24  [capítulo viii del buen suceso que el valeroso...  \n",
      "25  [solo es que digas que quieres de mi como lenn...  \n",
      "26  [fue mucho mi penar andando lejos del pago tan...  \n",
      "27  [eres dios sin principio creador infinito tú n...  \n",
      "28  [para bailar la bamba para bailar la bamba se ...  \n",
      "29  [mr worldwide esto aquí es para las mujeres en...  \n",
      "30  [yo soy un hombre sincero de donde crece la pa...  \n",
      "31  [bésame bésame mucho como si fuera esta noche ...  \n",
      "    Topic  Count\n",
      "0       0  15194\n",
      "1       1  14213\n",
      "2       2  13318\n",
      "3       3  12509\n",
      "4       4  12005\n",
      "5       5  11851\n",
      "6       6  11772\n",
      "7       7  11642\n",
      "8       8  11631\n",
      "9       9  11000\n",
      "10     10  10938\n",
      "11     11  10922\n",
      "12     12  10853\n",
      "13     13  10780\n",
      "14     14  10137\n",
      "15     15  10106\n",
      "16     16   9595\n",
      "17     17   9322\n",
      "18     18   8225\n",
      "19     19   8126\n",
      "20     20   7966\n",
      "21     21   7956\n",
      "22     22   7504\n",
      "23     23   6333\n",
      "24     24   6247\n",
      "25     25   6145\n",
      "26     26   4162\n",
      "27     27   3607\n",
      "28     28    303\n",
      "29     29    301\n",
      "30     30    225\n",
      "31     31    171\n"
     ]
    }
   ],
   "source": [
    "# Try using get_topic_info()\n",
    "topic_info = topic_model.get_topic_info()\n",
    "print(topic_info)  # This should include counts in a column\n",
    "\n",
    "# The Count column should contain the sizes\n",
    "topic_sizes = topic_info[['Topic', 'Count']]\n",
    "print(topic_sizes)"
   ]
  },
  {
   "cell_type": "code",
   "execution_count": null,
   "id": "bd8efcc5",
   "metadata": {},
   "outputs": [
    {
     "name": "stdout",
     "output_type": "stream",
     "text": [
      "(32, 2)\n"
     ]
    }
   ],
   "source": [
    "import numpy as np\n",
    "\n",
    "# Get the coordinates from topic model\n",
    "topic_vis = topic_model.visualize_topics()\n",
    "\n",
    "# Extract coordinates from the visualization\n",
    "# Different versions of BERTopic may require slightly different approaches\n",
    "# Method 1:\n",
    "coordinates = np.array([topic_vis.data[0]['x'], topic_vis.data[0]['y']]).T\n"
   ]
  },
  {
   "cell_type": "code",
   "execution_count": 45,
   "id": "870d978a",
   "metadata": {},
   "outputs": [
    {
     "name": "stdout",
     "output_type": "stream",
     "text": [
      "[1 1 4 2 4 2 4 1 0 2 3 2 6 6 5 0 5 5 5 1 2 6 0 3 4 6 3 0 0 0 0 0]\n"
     ]
    }
   ],
   "source": [
    "from sklearn.cluster import AgglomerativeClustering\n",
    "import numpy as np\n",
    "\n",
    "# Apply hierarchical clustering\n",
    "n_groups = 7  # Number of groups you want to create (from the image aboove, we see 7 clusters)\n",
    "clustering = AgglomerativeClustering(n_clusters=n_groups)\n",
    "topic_cluster = clustering.fit_predict(coordinates)\n",
    "\n",
    "# Display the grouping results\n",
    "print(topic_cluster)\n"
   ]
  },
  {
   "cell_type": "code",
   "execution_count": 46,
   "id": "ebda3abb",
   "metadata": {},
   "outputs": [
    {
     "name": "stdout",
     "output_type": "stream",
     "text": [
      "merged_topic\n",
      "0    33848\n",
      "1    49175\n",
      "2    54248\n",
      "3    21433\n",
      "4    43342\n",
      "5    37279\n",
      "6    35734\n",
      "Name: count, dtype: int64\n"
     ]
    },
    {
     "data": {
      "image/png": "[encoded data removed]",
      "text/plain": [
       "<Figure size 1200x600 with 1 Axes>"
      ]
     },
     "metadata": {},
     "output_type": "display_data"
    }
   ],
   "source": [
    "# merge the topics into groups\n",
    "topic_mapping = {}\n",
    "for group_id, topic in enumerate(topic_cluster):\n",
    "    topic_mapping[group_id] = topic\n",
    "\n",
    "# Create a new column with merged topics\n",
    "df['merged_topic'] = df['topic'].map(lambda x: topic_mapping.get(x, -1))\n",
    "\n",
    "# Analyze the new merged topics\n",
    "merged_topic_counts = df['merged_topic'].value_counts().sort_index()\n",
    "print(merged_topic_counts)\n",
    "\n",
    "# Visualize distribution of merged topics\n",
    "plt.figure(figsize=(12, 6))\n",
    "merged_topic_counts.plot(kind='bar')\n",
    "plt.title('Distribution of Merged Topics')\n",
    "plt.xlabel('Merged Topic Group')\n",
    "plt.ylabel('Count')\n",
    "plt.tight_layout()\n",
    "plt.show()"
   ]
  },
  {
   "cell_type": "code",
   "execution_count": 47,
   "id": "dd745507",
   "metadata": {},
   "outputs": [
    {
     "data": {
      "image/png": "[encoded data removed]",
      "text/plain": [
       "<Figure size 1400x1000 with 2 Axes>"
      ]
     },
     "metadata": {},
     "output_type": "display_data"
    }
   ],
   "source": [
    "# Create cross-tabulation of tag vs topics\n",
    "tag_topic = pd.crosstab(df['tag'], df['merged_topic'])\n",
    "\n",
    "# Normalize by tag\n",
    "tag_topic_norm = tag_topic.div(tag_topic.sum(axis=1), axis=0)\n",
    "\n",
    "# Heatmap for tag distribution\n",
    "plt.figure(figsize=(14, 10))\n",
    "sns.heatmap(tag_topic_norm, cmap=\"YlGnBu\", annot=False)\n",
    "plt.title('MergedTopic Distribution by Music Tag/Genre')\n",
    "plt.ylabel('Tag')\n",
    "plt.xlabel('MergedTopic')\n",
    "plt.tight_layout()\n",
    "plt.show()"
   ]
  },
  {
   "cell_type": "markdown",
   "id": "9eef3e31",
   "metadata": {},
   "source": [
    "It seems the automatically found topics do not match the genres nor the decades.\n",
    "Could be that the embedding model is not adapted to lyrics (lots of repetition, non-words such as yeah, ooohhh, etc.)\n"
   ]
  }
 ],
 "metadata": {
  "kernelspec": {
   "display_name": "Python 3",
   "language": "python",
   "name": "python3"
  },
  "language_info": {
   "codemirror_mode": {
    "name": "ipython",
    "version": 3
   },
   "file_extension": ".py",
   "mimetype": "text/x-python",
   "name": "python",
   "nbconvert_exporter": "python",
   "pygments_lexer": "ipython3",
   "version": "3.10.16"
  }
 },
 "nbformat": 4,
 "nbformat_minor": 5
}
