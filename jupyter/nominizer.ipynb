{
 "cells": [
  {
   "cell_type": "markdown",
   "id": "e67e47c6",
   "metadata": {},
   "source": [
    "# Prepare notebook"
   ]
  },
  {
   "cell_type": "code",
   "execution_count": null,
   "id": "8843db02",
   "metadata": {},
   "outputs": [],
   "source": [
    "!pip install ipywidgets"
   ]
  },
  {
   "cell_type": "code",
   "execution_count": 1,
   "id": "a87ef9f7",
   "metadata": {},
   "outputs": [],
   "source": [
    "import pandas as pd\n",
    "import numpy as np\n",
    "import spacy\n",
    "import swifter\n",
    "from IPython.display import Image, display\n",
    "import ipywidgets as widgets\n",
    "import re\n",
    "\n",
    "# Load the Spanish language model\n",
    "nlp = spacy.load(\"es_core_news_sm\")"
   ]
  },
  {
   "cell_type": "code",
   "execution_count": null,
   "id": "a6863033",
   "metadata": {},
   "outputs": [],
   "source": [
    "\n",
    "def clean_lyrics(letra):\n",
    "    cleaned = ''\n",
    "    for text in letra.split('\\n')[1:]:   # remove the first line\n",
    "        if text == '':\n",
    "            continue\n",
    "        text = re.sub(r'\\[.+?\\]', ' ', text) # remove whatever is between brackets\n",
    "        text = re.sub(r'\\((.+?)\\)', r'\\1', text) # keep what is between parentheses\n",
    "        text = re.sub(r'\\\"(.+?)\\\"', r'\\1', text) # keep what is between quotes\n",
    "        text = re.sub('[\\s]+', ' ', text) # spaces\n",
    "        text = text.strip() # remove leading and trailing spaces\n",
    "        text = text.lower() # lowercase\n",
    "        cleaned += text + ' '\n",
    "    cleaned = re.sub(r'\\s+', ' ', cleaned) # remove multiple spaces\n",
    "    cleaned = cleaned.strip() # remove leading and trailing spaces\n",
    "    return cleaned\n",
    "\n",
    "def load_data(\n",
    "        csv_path: str,\n",
    "        languages: list = None,\n",
    "        chunk_size: int = 20000\n",
    "        ) -> pd.DataFrame:\n",
    "    # dafault is Spanish\n",
    "    if languages is None:\n",
    "        languages = ['es']\n",
    "    # Read the CSV file in chunks\n",
    "    chunks = pd.read_csv(csv_path, chunksize=chunk_size, encoding='utf-8')\n",
    "    # Process each chunk\n",
    "    filtered_chunks = []\n",
    "    for chunk in chunks:\n",
    "        filtered_chunk = chunk[chunk['language'].isin(languages)]\n",
    "        filtered_chunks.append(filtered_chunk)\n",
    "    # Combine all filtered chunks into a single DataFrame\n",
    "    filtered_df = pd.concat(filtered_chunks)\n",
    "    return filtered_df\n",
    "\n",
    "data_soure = '/mnt/c/Users/rmessina/Eli/data/song_lyrics_es_1950_2020.csv'\n",
    "\n",
    "df = load_data(data_soure, languages=['es'])\n",
    "df['cleaned_lyrics'] = df['lyrics'].swifter.apply(clean_lyrics)\n",
    "\n",
    "df.to_csv('/mnt/c/Users/rmessina/Eli/data/song_lyrics_es_1950_2020_cleaned.csv', index=False, encoding='utf-8')"
   ]
  },
  {
   "cell_type": "markdown",
   "id": "19a46151",
   "metadata": {},
   "source": [
    "# Extract the noums only"
   ]
  },
  {
   "cell_type": "code",
   "execution_count": 3,
   "id": "0c7bec95",
   "metadata": {},
   "outputs": [
    {
     "data": {
      "text/plain": [
       "'Reading notebook'"
      ]
     },
     "metadata": {},
     "output_type": "display_data"
    },
    {
     "name": "stdout",
     "output_type": "stream",
     "text": [
      "Removed 499 rows with NaN values in 'cleaned_lyrics'.\n"
     ]
    },
    {
     "data": {
      "text/plain": [
       "'Processing...'"
      ]
     },
     "metadata": {},
     "output_type": "display_data"
    },
    {
     "data": {
      "text/plain": [
       "'Saving...'"
      ]
     },
     "metadata": {},
     "output_type": "display_data"
    }
   ],
   "source": [
    "from concurrent.futures import ProcessPoolExecutor\n",
    "\n",
    "# Load the Spanish language model\n",
    "nlp = spacy.load(\"es_core_news_sm\")\n",
    "\n",
    "# Function to process a single text\n",
    "def nominize_text(text):\n",
    "    \"\"\"\n",
    "    Extract nouns from the input text using spaCy's Spanish language model,\n",
    "    excluding stopwords and punctuation.\n",
    "    \"\"\"\n",
    "    doc = nlp(text)\n",
    "    return \" \".join([\n",
    "        token.lemma_ for token in doc\n",
    "        if token.pos_ == \"NOUN\" and not token.is_stop and not token.is_punct\n",
    "    ])\n",
    "\n",
    "# Function to process a DataFrame chunk\n",
    "def process_chunk(chunk):\n",
    "    chunk['lemmatized_lyrics'] = chunk['cleaned_lyrics'].apply(nominize_text)\n",
    "    return chunk\n",
    "\n",
    "# Parallel processing function\n",
    "def parallel_process(df, func, num_cores=20):\n",
    "    df_split = np.array_split(df, num_cores)  # Split DataFrame into chunks\n",
    "    with ProcessPoolExecutor(max_workers=num_cores) as executor:\n",
    "        results = executor.map(func, df_split)\n",
    "    return pd.concat(results)  # Combine results back into a single DataFrame\n",
    "\n",
    "if __name__ == \"__main__\":\n",
    "    display('Reading notebook')\n",
    "    df = pd.read_csv('/mnt/c/Users/rmessina/Eli/data/song_lyrics_es_1950_2020_cleaned.csv')\n",
    "    \n",
    "    # Remove rows with NaN in the 'cleaned_lyrics' column\n",
    "    initial_row_count = len(df)\n",
    "    df = df.dropna(subset=['cleaned_lyrics'])\n",
    "    removed_row_count = initial_row_count - len(df)\n",
    "    print(f\"Removed {removed_row_count} rows with NaN values in 'cleaned_lyrics'.\")\n",
    "\n",
    "    display('Processing...')\n",
    "    # Apply multiprocessing to the DataFrame with a progress bar\n",
    "    df = parallel_process(df, process_chunk)\n",
    "\n",
    "    display('Saving...')\n",
    "    # Save the processed DataFrame\n",
    "    df.to_csv('/mnt/c/Users/rmessina/Eli/data/song_lyrics_es_1950_2020_lemmaNouns.csv', index=False, encoding='utf-8')"
   ]
  },
  {
   "cell_type": "code",
   "execution_count": null,
   "id": "12aa9954",
   "metadata": {},
   "outputs": [],
   "source": []
  }
 ],
 "metadata": {
  "kernelspec": {
   "display_name": "eli",
   "language": "python",
   "name": "python3"
  },
  "language_info": {
   "codemirror_mode": {
    "name": "ipython",
    "version": 3
   },
   "file_extension": ".py",
   "mimetype": "text/x-python",
   "name": "python",
   "nbconvert_exporter": "python",
   "pygments_lexer": "ipython3",
   "version": "3.9.21"
  }
 },
 "nbformat": 4,
 "nbformat_minor": 5
}
